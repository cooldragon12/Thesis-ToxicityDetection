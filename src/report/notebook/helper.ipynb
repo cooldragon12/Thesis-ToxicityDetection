{
 "cells": [
  {
   "attachments": {},
   "cell_type": "markdown",
   "metadata": {},
   "source": [
    "# Reading a Screenshot using OCR\n",
    "Computer Vision"
   ]
  },
  {
   "attachments": {},
   "cell_type": "markdown",
   "metadata": {},
   "source": [
    "## Requirements for this notebook\n",
    "- [pytesseract](https://pypi.org/project/pytesseract/)\n",
    "- [tesseract](https://github.com/UB-Mannheim/tesseract/wiki) (for Windows)\n",
    "- [cv2](https://pypi.org/project/opencv-python/)\n",
    "- [imutils](https://pypi.org/project/imutils/)\n",
    "- [numpy](https://pypi.org/project/numpy/) (Optional)"
   ]
  },
  {
   "cell_type": "code",
   "execution_count": 1,
   "metadata": {},
   "outputs": [],
   "source": [
    "import imutils\n",
    "import cv2\n",
    "import pytesseract\n",
    "import re"
   ]
  },
  {
   "attachments": {},
   "cell_type": "markdown",
   "metadata": {},
   "source": [
    "### Steps to execute the reading of a screenshot\n",
    "1. Import the required libraries\n",
    "2. Read the image using cv2\n",
    "3. Use function pre_gray() to convert the image to grayscale and add a threshold\n",
    "4. Before using the read_photo() function and pass the image as a parameter. (make sure to change the path to the tesseract.exe file). This will get all the text from the image.\n",
    "5. Lastly, to get the desired test use the get_lines_needed() function and pass the text as a parameter. This will return a list of strings, contains the important information from the image."
   ]
  },
  {
   "cell_type": "code",
   "execution_count": 2,
   "metadata": {},
   "outputs": [],
   "source": [
    "def read_photo(image):\n",
    "    \"\"\"Reads the image and returns the text in the image\"\"\"\n",
    "    # this is the path to the tesseract executable file\n",
    "    pytesseract.pytesseract.tesseract_cmd = r\"C:\\Program Files\\Tesseract-OCR\\tesseract.exe\"\n",
    "    text = pytesseract.image_to_string(image)\n",
    "    return text"
   ]
  },
  {
   "cell_type": "code",
   "execution_count": 6,
   "metadata": {},
   "outputs": [],
   "source": [
    "\n",
    "def pre_gray(img):\n",
    "    \"\"\"Converts the image to grayscale and add Threshold\"\"\"\n",
    "    \n",
    "    # This enhances the image\n",
    "    dst = cv2.detailEnhance(img, sigma_s=10, sigma_r=0.15)\n",
    "    \n",
    "    # This converts the image to grayscale\n",
    "    gray = cv2.cvtColor(dst, cv2.COLOR_BGR2GRAY) # Converts to grayscale\n",
    "    \n",
    "    thresh = cv2.threshold(gray, 0, 255,cv2.THRESH_BINARY_INV | cv2.THRESH_OTSU)[1] # Add threshold\n",
    "    \n",
    "    # This is for debugging purposes\n",
    "    # cv2.imshow(\"thresh.png\", gray)\n",
    "    # cv2.waitKey(0)\n",
    "    return thresh"
   ]
  },
  {
   "cell_type": "code",
   "execution_count": 12,
   "metadata": {},
   "outputs": [
    {
     "name": "stdout",
     "output_type": "stream",
     "text": [
      "['(Team) ayw ko na: reyna dont crouch', '(Team) ayw ko na: he aint a mind reader tho', '(Team) TNB DragonMaster: i thought you would smoke there', '(Team) 14th Element: the animation was ongoing', '(Team) ayw ko na: mic is easy to press']\n"
     ]
    }
   ],
   "source": [
    "\n",
    "def get_lines_needed(raw_text):\n",
    "    \"\"\"Returns the lines needed for the report\"\"\"\n",
    "    # Regex pattern to get the lines needed\n",
    "    pattern= re.compile(r\"(\\(Team\\) ([A-Za-z0-9\\! ]+\\w): ([A-Za-z0-9\\! ]+\\w))\") # Format: (Team) username: message\n",
    "    # Preprocessing the image to make it clear for the detection and read it properly\n",
    "    prepro = pre_gray(raw_text)\n",
    "    # Read the image and split it by lines to make it a array\n",
    "    lines = read_photo(prepro).split(\"\\n\")\n",
    "    # Get the lines needed for the report\n",
    "    cleaned_text= [line for line in lines if pattern.match(line)]\n",
    "    # Return the lines needed\n",
    "    return cleaned_text"
   ]
  },
  {
   "cell_type": "code",
   "execution_count": null,
   "metadata": {},
   "outputs": [],
   "source": []
  }
 ],
 "metadata": {
  "kernelspec": {
   "display_name": ".venv",
   "language": "python",
   "name": "python3"
  },
  "language_info": {
   "codemirror_mode": {
    "name": "ipython",
    "version": 3
   },
   "file_extension": ".py",
   "mimetype": "text/x-python",
   "name": "python",
   "nbconvert_exporter": "python",
   "pygments_lexer": "ipython3",
   "version": "3.11.2"
  },
  "orig_nbformat": 4
 },
 "nbformat": 4,
 "nbformat_minor": 2
}
